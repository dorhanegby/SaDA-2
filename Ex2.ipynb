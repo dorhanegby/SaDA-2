{
 "cells": [
  {
   "cell_type": "markdown",
   "metadata": {},
   "source": [
    "<h1><center> Statistics and Data Analysis - Assignmet 02</center></h1>"
   ]
  },
  {
   "cell_type": "markdown",
   "metadata": {},
   "source": [
    "# Question 1.\n",
    "\n",
    "    a. Produce histograms that compare the distribution of max heart rate using all non numerical columns to\n",
    "    partition the set of samples.  ",
    "State 2 conclusions you can try to draw from this analysis. "
   ]
  },
  {
   "cell_type": "code",
   "execution_count": 384,
   "metadata": {
    "collapsed": true
   },
   "outputs": [],
   "source": [
    "import pandas as pd\n",
    "import numpy as np\n",
    "import matplotlib.pyplot as plt\n",
    "from scipy.stats import norm, geom"
   ]
  },
  {
   "cell_type": "code",
   "execution_count": 385,
   "metadata": {
    "collapsed": true
   },
   "outputs": [],
   "source": [
    "%matplotlib inline"
   ]
  },
  {
   "cell_type": "code",
   "execution_count": 386,
   "metadata": {
    "scrolled": false
   },
   "outputs": [
    {
     "data": {
      "text/html": [
       "<div>\n",
       "<style scoped>\n",
       "    .dataframe tbody tr th:only-of-type {\n",
       "        vertical-align: middle;\n",
       "    }\n",
       "\n",
       "    .dataframe tbody tr th {\n",
       "        vertical-align: top;\n",
       "    }\n",
       "\n",
       "    .dataframe thead th {\n",
       "        text-align: right;\n",
       "    }\n",
       "</style>\n",
       "<table border=\"1\" class=\"dataframe\">\n",
       "  <thead>\n",
       "    <tr style=\"text-align: right;\">\n",
       "      <th></th>\n",
       "      <th>age</th>\n",
       "      <th>chest_pain</th>\n",
       "      <th>rest_bpress</th>\n",
       "      <th>blood_sugar</th>\n",
       "      <th>rest_electro</th>\n",
       "      <th>max_heart_rate</th>\n",
       "      <th>exercice_angina</th>\n",
       "      <th>disease</th>\n",
       "    </tr>\n",
       "  </thead>\n",
       "  <tbody>\n",
       "    <tr>\n",
       "      <th>0</th>\n",
       "      <td>43</td>\n",
       "      <td>asympt</td>\n",
       "      <td>140</td>\n",
       "      <td>f</td>\n",
       "      <td>normal</td>\n",
       "      <td>135</td>\n",
       "      <td>yes</td>\n",
       "      <td>positive</td>\n",
       "    </tr>\n",
       "    <tr>\n",
       "      <th>1</th>\n",
       "      <td>39</td>\n",
       "      <td>atyp_angina</td>\n",
       "      <td>120</td>\n",
       "      <td>f</td>\n",
       "      <td>normal</td>\n",
       "      <td>160</td>\n",
       "      <td>yes</td>\n",
       "      <td>negative</td>\n",
       "    </tr>\n",
       "    <tr>\n",
       "      <th>2</th>\n",
       "      <td>39</td>\n",
       "      <td>non_anginal</td>\n",
       "      <td>160</td>\n",
       "      <td>t</td>\n",
       "      <td>normal</td>\n",
       "      <td>160</td>\n",
       "      <td>no</td>\n",
       "      <td>negative</td>\n",
       "    </tr>\n",
       "    <tr>\n",
       "      <th>3</th>\n",
       "      <td>42</td>\n",
       "      <td>non_anginal</td>\n",
       "      <td>160</td>\n",
       "      <td>f</td>\n",
       "      <td>normal</td>\n",
       "      <td>146</td>\n",
       "      <td>no</td>\n",
       "      <td>negative</td>\n",
       "    </tr>\n",
       "    <tr>\n",
       "      <th>4</th>\n",
       "      <td>49</td>\n",
       "      <td>asympt</td>\n",
       "      <td>140</td>\n",
       "      <td>f</td>\n",
       "      <td>normal</td>\n",
       "      <td>130</td>\n",
       "      <td>no</td>\n",
       "      <td>negative</td>\n",
       "    </tr>\n",
       "  </tbody>\n",
       "</table>\n",
       "</div>"
      ],
      "text/plain": [
       "   age   chest_pain  rest_bpress blood_sugar rest_electro  max_heart_rate  \\\n",
       "0   43       asympt          140           f       normal             135   \n",
       "1   39  atyp_angina          120           f       normal             160   \n",
       "2   39  non_anginal          160           t       normal             160   \n",
       "3   42  non_anginal          160           f       normal             146   \n",
       "4   49       asympt          140           f       normal             130   \n",
       "\n",
       "  exercice_angina   disease  \n",
       "0             yes  positive  \n",
       "1             yes  negative  \n",
       "2              no  negative  \n",
       "3              no  negative  \n",
       "4              no  negative  "
      ]
     },
     "execution_count": 386,
     "metadata": {},
     "output_type": "execute_result"
    }
   ],
   "source": [
    "lyon=pd.read_excel(\"./HW2/UnivLyon_heart_disease_male.xls\")\n",
    "lyon.head()"
   ]
  },
  {
   "cell_type": "code",
   "execution_count": 388,
   "metadata": {
    "collapsed": true,
    "scrolled": true
   },
   "outputs": [],
   "source": [
    "# axarr = df.groupby('chest_pain').max_heart_rate.hist(alpha=0.4)"
   ]
  },
  {
   "cell_type": "markdown",
   "metadata": {},
   "source": [
    "## Question 2\n",
    "    a. First we start by showing the pdf of Fred, Mel and Sid time to repair a phonel."
   ]
  },
  {
   "cell_type": "code",
   "execution_count": 389,
   "metadata": {
    "scrolled": true
   },
   "outputs": [
    {
     "data": {
      "image/png": "[encoded data removed]",
      "text/plain": [
       "<Figure size 432x288 with 1 Axes>"
      ]
     },
     "metadata": {
      "needs_background": "light"
     },
     "output_type": "display_data"
    }
   ],
   "source": [
    "x_axis = np.arange(0, 80, 0.001)\n",
    "plt.plot(x_axis, norm.pdf(x_axis,30,5), label='Fred')\n",
    "plt.legend(loc='upper left')\n",
    "plt.show()"
   ]
  },
  {
   "cell_type": "markdown",
   "metadata": {},
   "source": [
    "We want to calculte $P (F \\leq 45)$ = $\\phi(\\frac{45 - 30}{5}) = \\phi(3)$ where $\\phi$ is the pdf of of the stanard normal distribution. therefore we shall calculate:"
   ]
  },
  {
   "cell_type": "code",
   "execution_count": 390,
   "metadata": {},
   "outputs": [
    {
     "data": {
      "text/plain": [
       "0.9986501019683699"
      ]
     },
     "execution_count": 390,
     "metadata": {},
     "output_type": "execute_result"
    }
   ],
   "source": [
    "norm.cdf(3)"
   ]
  },
  {
   "cell_type": "markdown",
   "metadata": {},
   "source": [
    "We can say that the probability that Fred will be done fixing the phone by 11:45 is $99.86\\%$"
   ]
  },
  {
   "cell_type": "markdown",
   "metadata": {},
   "source": [
    "When a customer in North Randomistan orders a repair, there is a 50% chance Fred will do the work and 25% each that Mel or Sid will do the work."
   ]
  },
  {
   "cell_type": "markdown",
   "metadata": {},
   "source": [
    "    b. What is the distribution of the duration of repair in North Randomistan?"
   ]
  },
  {
   "cell_type": "markdown",
   "metadata": {},
   "source": [
    "The distribution of the duration of repair in North Randomistan is a Gaussian mixture with the following parameters:\n",
    "\n",
    "$ X_1 \\sim N(30, 5), X_2 \\sim N(35, 7), X_3 \\sim N(40, 10) $\n",
    "$w_1 = 0.5, w_2 = 0.25, w_3 = 0.25$\n",
    "\n",
    "we define the Gaussian mixture PDF as:\n",
    "$$ GM(x) = \\sum_{i=1}^{3} w_i f_{X_i}(x)$$"
   ]
  },
  {
   "cell_type": "code",
   "execution_count": 391,
   "metadata": {},
   "outputs": [
    {
     "data": {
      "image/png": "[encoded data removed]",
      "text/plain": [
       "<Figure size 432x288 with 1 Axes>"
      ]
     },
     "metadata": {
      "needs_background": "light"
     },
     "output_type": "display_data"
    }
   ],
   "source": [
    "def gm_pdf(x):\n",
    "    return 0.5 * norm.pdf(x,30,5) + 0.25 * norm.pdf(x,35,7) + 0.25 * norm.pdf(x,40,10)\n",
    "\n",
    "plt.plot(x_axis, norm.pdf(x_axis,30,5), color='blue', label='Fred', alpha=0.2)\n",
    "plt.plot(x_axis, norm.pdf(x_axis, 35, 7), color='green', label='Mel', alpha=0.2)\n",
    "plt.plot(x_axis, norm.pdf(x_axis,40,10), color='brown', label='Sid', alpha=0.2)\n",
    "plt.plot(x_axis, gm_pdf(x_axis), color='red', label='GM')\n",
    "plt.legend(loc='upper left')\n",
    "plt.show()"
   ]
  },
  {
   "cell_type": "markdown",
   "metadata": {},
   "source": [
    "c. Let $\\Phi$ denote the CDF of a standard normal random variable. Use $\\Phi$ to express the CDF of the duration of a repair in North Randomistan."
   ]
  },
  {
   "cell_type": "markdown",
   "metadata": {},
   "source": [
    "$\\Phi_{gm}(x) = \\int_{-\\infty}^{x} GM(x)dx = \\int_{-\\infty}^{x} \\sum_{i=1}^{3} w_i f_{X_i}(x)dx = \\sum_{i=1}^{3}  w_i \\int_{-\\infty}^{x} f_{X_i}(x)dx = \\sum_{i=1}^{3} w_i \\Phi_{X_i}(x) = \\sum_{i=1}^{3} w_i \\Phi(\\frac{x - \\mu_i}{\\sigma_i}) $ "
   ]
  },
  {
   "cell_type": "code",
   "execution_count": 392,
   "metadata": {},
   "outputs": [
    {
     "data": {
      "image/png": "[encoded data removed]",
      "text/plain": [
       "<Figure size 432x288 with 1 Axes>"
      ]
     },
     "metadata": {
      "needs_background": "light"
     },
     "output_type": "display_data"
    }
   ],
   "source": [
    "def gm_cdf(x):\n",
    "    return 0.5 * norm.cdf(x,30,5) + 0.25 * norm.cdf(x,35,7) + 0.25* norm.cdf(x,40,10)\n",
    "\n",
    "plt.plot(x_axis, norm.cdf(x_axis,30,5), color='blue', label='Fred', alpha=0.2)\n",
    "plt.plot(x_axis, norm.cdf(x_axis, 35, 7), color='green', label='Mel', alpha=0.2)\n",
    "plt.plot(x_axis, norm.cdf(x_axis,40,10), color='brown', label='Sid', alpha=0.2)\n",
    "plt.plot(x_axis, gm_cdf(x_axis), color='red', label='GM')\n",
    "plt.legend(loc='upper left')\n",
    "plt.show()"
   ]
  },
  {
   "cell_type": "markdown",
   "metadata": {},
   "source": [
    "d. If the repair starts at 11AM, what is the earliest time for which the customer can assume, at a 95% certainty, that the repair will be already done?"
   ]
  },
  {
   "cell_type": "markdown",
   "metadata": {},
   "source": [
    "we want to find the earliest time $t$ such that $\\Phi_{gm}(t) \\geq 0.95$, in this simple case, we will answer that by iterating over the discrete values"
   ]
  },
  {
   "cell_type": "code",
   "execution_count": 393,
   "metadata": {},
   "outputs": [
    {
     "name": "stdout",
     "output_type": "stream",
     "text": [
      "gm_cdf(50) = 0.956304779495262\n"
     ]
    }
   ],
   "source": [
    "for t in range(0, 80):\n",
    "    if gm_cdf(t) >= 0.95:\n",
    "        print('gm_cdf({}) = {}'.format(t, gm_cdf(t)))\n",
    "        break\n",
    "        "
   ]
  },
  {
   "cell_type": "markdown",
   "metadata": {},
   "source": [
    "we can conclude that for every $t \\geq 50$ (actually somewhere between 49 and 50) it holds that $$\\Phi_{gm}(t) \\geq \\Phi_{gm}(50) \\geq 0.95$$\n",
    "so we can conclude that after 11:50 AM the customer can assume at a 95% certainty that the phone is already repaired."
   ]
  },
  {
   "cell_type": "markdown",
   "metadata": {},
   "source": [
    "## Question 3\n",
    "Assume that the data comes from a Gaussian mixture distribution (GMD). Furthermore, assume that $\\mu_1 = 0$ and that $\\sigma_1=\\sigma_2=1$"
   ]
  },
  {
   "cell_type": "markdown",
   "metadata": {},
   "source": [
    "a. Provide an estimate for the other parameters of the distribution."
   ]
  },
  {
   "cell_type": "markdown",
   "metadata": {},
   "source": [
    "We want to find the parameters of the GMD, specificly, we would like to find $w_1, w_2, \\mu_2$, let us first observe the histogram of our data:"
   ]
  },
  {
   "cell_type": "code",
   "execution_count": 394,
   "metadata": {
    "collapsed": true
   },
   "outputs": [],
   "source": [
    "gmd=pd.read_excel(\"./HW2/GMD.xlsx\")"
   ]
  },
  {
   "cell_type": "code",
   "execution_count": 395,
   "metadata": {},
   "outputs": [
    {
     "data": {
      "text/plain": [
       "array([[<matplotlib.axes._subplots.AxesSubplot object at 0x1a2aae41d0>]],\n",
       "      dtype=object)"
      ]
     },
     "execution_count": 395,
     "metadata": {},
     "output_type": "execute_result"
    },
    {
     "data": {
      "image/png": "[encoded data removed]",
      "text/plain": [
       "<Figure size 432x288 with 1 Axes>"
      ]
     },
     "metadata": {
      "needs_background": "light"
     },
     "output_type": "display_data"
    }
   ],
   "source": [
    "gmd.hist(bins=40, edgecolor='black')"
   ]
  },
  {
   "cell_type": "markdown",
   "metadata": {},
   "source": [
    "Let us run EM over the data and print the Results:"
   ]
  },
  {
   "cell_type": "code",
   "execution_count": 396,
   "metadata": {},
   "outputs": [
    {
     "name": "stdout",
     "output_type": "stream",
     "text": [
      "mean 0: [-0.14508825]\n",
      "mean 1: [3.96432875]\n",
      "std 0: [[0.95036731]]\n",
      "std 1: [[0.9546127]]\n",
      "weight 0: 0.20563921297897275\n",
      "weight 1: 0.794360787021029\n"
     ]
    }
   ],
   "source": [
    "from sklearn.mixture import GaussianMixture\n",
    "gmm = GaussianMixture(n_components=2, covariance_type=\"full\",means_init=[[0], [4]], tol=0.001)\n",
    "gmm.covariances_ = np.array([[1], [1]])\n",
    "gmm = gmm.fit(gmd)\n",
    "\n",
    "for index, mu in enumerate(gmm.means_):\n",
    "    print('mean {}: {}'.format(index, mu))\n",
    "for index, sigma in enumerate(gmm.covariances_):\n",
    "    print('std {}: {}'.format(index, sigma))\n",
    "for index, w in enumerate(gmm.weights_):\n",
    "    print('weight {}: {}'.format(index, w))"
   ]
  },
  {
   "cell_type": "markdown",
   "metadata": {},
   "source": [
    "We can conclude that by few iterations and rounding up that a good approximation will be\n",
    "$$ \\mu_1 = 0, \\mu_2 = 4, \\sigma_1 = \\sigma_2 = 1, w_1 = 0.2, w_2 = 0.8$$"
   ]
  },
  {
   "cell_type": "markdown",
   "metadata": {},
   "source": [
    "b. Plot a graph of the pdf of the distribution you inferred. Select adequate limits for the axes for this plot and explain your decision."
   ]
  },
  {
   "cell_type": "code",
   "execution_count": 397,
   "metadata": {},
   "outputs": [
    {
     "data": {
      "image/png": "[encoded data removed]",
      "text/plain": [
       "<Figure size 432x288 with 1 Axes>"
      ]
     },
     "metadata": {
      "needs_background": "light"
     },
     "output_type": "display_data"
    }
   ],
   "source": [
    "fig = plt.figure()\n",
    "ax = fig.add_subplot(111)\n",
    "x = np.linspace(-3, 7, 100).reshape(100,1)\n",
    "logprob = gmm.score_samples(x)\n",
    "pdf = np.exp(logprob)\n",
    "ax.plot(x, pdf, color='red')\n",
    "plt.show()"
   ]
  },
  {
   "cell_type": "markdown",
   "metadata": {},
   "source": [
    "We chose the limits to be $-3$ and $7$ because they are $3$ standard divations from the means of the gaussians and by that we get $99.7\\%$ of each distribution which depicts well the distribution itself. "
   ]
  },
  {
   "cell_type": "code",
   "execution_count": 409,
   "metadata": {},
   "outputs": [
    {
     "data": {
      "image/png": "[encoded data removed]",
      "text/plain": [
       "<Figure size 432x288 with 1 Axes>"
      ]
     },
     "metadata": {
      "needs_background": "light"
     },
     "output_type": "display_data"
    }
   ],
   "source": [
    "def gm_pdf(x):\n",
    "    return 0.5 * norm.pdf(x,3,1) + 0.5 * norm.pdf(x,9,1)\n",
    "x_axis = np.arange(0, 12, 0.01)\n",
    "plt.plot(x_axis, norm.pdf(x_axis,3,1), color='blue', alpha=0.2)\n",
    "plt.plot(x_axis, norm.pdf(x_axis,9,1), color='green', alpha=0.2)\n",
    "plt.plot(x_axis, gm_pdf(x_axis), color='red', label='GM')\n",
    "plt.show()"
   ]
  },
  {
   "cell_type": "code",
   "execution_count": 410,
   "metadata": {},
   "outputs": [
    {
     "data": {
      "image/png": "[encoded data removed]",
      "text/plain": [
       "<Figure size 432x288 with 1 Axes>"
      ]
     },
     "metadata": {
      "needs_background": "light"
     },
     "output_type": "display_data"
    },
    {
     "data": {
      "text/plain": [
       "(array([  2.,   6.,  16.,  28.,  93., 150., 297., 463., 643., 817., 882.,\n",
       "        866., 802., 616., 417., 252., 128.,  69.,  33.,  15.,  18.,  57.,\n",
       "        124., 210., 375., 592., 694., 875., 799., 788., 691., 487., 344.,\n",
       "        194.,  88.,  42.,  17.,   5.,   4.,   1.]),\n",
       " array([-0.74060674, -0.39658007, -0.0525534 ,  0.29147327,  0.63549994,\n",
       "         0.97952661,  1.32355328,  1.66757995,  2.01160662,  2.35563329,\n",
       "         2.69965997,  3.04368664,  3.38771331,  3.73173998,  4.07576665,\n",
       "         4.41979332,  4.76381999,  5.10784666,  5.45187333,  5.7959    ,\n",
       "         6.13992667,  6.48395335,  6.82798002,  7.17200669,  7.51603336,\n",
       "         7.86006003,  8.2040867 ,  8.54811337,  8.89214004,  9.23616671,\n",
       "         9.58019338,  9.92422006, 10.26824673, 10.6122734 , 10.95630007,\n",
       "        11.30032674, 11.64435341, 11.98838008, 12.33240675, 12.67643342,\n",
       "        13.02046009]),\n",
       " <a list of 40 Patch objects>)"
      ]
     },
     "execution_count": 410,
     "metadata": {},
     "output_type": "execute_result"
    },
    {
     "data": {
      "image/png": "[encoded data removed]",
      "text/plain": [
       "<Figure size 432x288 with 1 Axes>"
      ]
     },
     "metadata": {
      "needs_background": "light"
     },
     "output_type": "display_data"
    }
   ],
   "source": [
    "def gm_pdf(x):\n",
    "    return 0.5 * norm.pdf(x,3,1) + 0.5 * norm.pdf(x,9,1)\n",
    "\n",
    "def gm_cdf(x):\n",
    "    return 0.5 * norm.cdf(x,3,1) + 0.5 * norm.cdf(x,9,1)\n",
    "plt.plot(x_axis, norm.cdf(x_axis,3,1), color='blue', alpha=0.2)\n",
    "plt.plot(x_axis, norm.cdf(x_axis, 9, 1), color='green', alpha=0.2)\n",
    "plt.plot(x_axis, gm_cdf(x_axis), color='red', label='GM')\n",
    "plt.show()\n",
    "\n",
    "random_numbers = []\n",
    "for i in range(12):\n",
    "    points_to_generate = np.round((gm_cdf(i + 1) - gm_cdf(i)) * 1000)\n",
    "    for j in range (int(points_to_generate)):\n",
    "        random_numbers.append(gm_pdf(i + np.random.random_sample()))\n",
    "plt.hist(random_number, bins=40, edgecolor='black')"
   ]
  },
  {
   "cell_type": "markdown",
   "metadata": {},
   "source": [
    "c. Describe two ways for generating data for a GMD random variable with:\n",
    "centers at  $\\mu_1+3$ and $\\mu_2+5$\n",
    "$\\sigma_1=\\sigma_2=1$\n",
    "$w_1=w_2=0.5$"
   ]
  },
  {
   "cell_type": "code",
   "execution_count": 411,
   "metadata": {},
   "outputs": [
    {
     "data": {
      "image/png": "[encoded data removed]",
      "text/plain": [
       "<Figure size 432x288 with 1 Axes>"
      ]
     },
     "metadata": {
      "needs_background": "light"
     },
     "output_type": "display_data"
    }
   ],
   "source": [
    "def gm_pdf(x):\n",
    "    return 0.5 * norm.pdf(x,3,1) + 0.5 * norm.pdf(x,9,1)\n",
    "\n",
    "def gm_cdf(x):\n",
    "    return 0.5 * norm.cdf(x,3,1) + 0.5 * norm.cdf(x,9,1)\n",
    "plt.plot(x_axis, norm.cdf(x_axis,3,1), color='blue', alpha=0.2)\n",
    "plt.plot(x_axis, norm.cdf(x_axis, 9, 1), color='green', alpha=0.2)\n",
    "plt.plot(x_axis, gm_cdf(x_axis), color='red', label='GM')\n",
    "plt.show()"
   ]
  },
  {
   "cell_type": "markdown",
   "metadata": {},
   "source": [
    "1. We will generate a random number $x$ in the interval $[0,1]$ and if $x < w_1 = 0.5$  then we will sample a data point from the first gaussian, otherwise we will sample from the second.\n"
   ]
  },
  {
   "cell_type": "markdown",
   "metadata": {},
   "source": [
    "2.We will divide the cdf of gaussian mixtures into intervals (the more intervals, the more the data will be accurate)\n",
    "then we will iterate over each bean and calculate the area in each interval (we will calculate the cdf(i) - cdf(i-1)) and multiply by the amout of points we want generate, that way we will get the proportional number of points that should be generated in each interval as a function of the pdf."
   ]
  },
  {
   "cell_type": "markdown",
   "metadata": {},
   "source": [
    "D.Use one of the above approaches to generate $1000$ points and plot a histogram of the result (decide on bins, axes etc)"
   ]
  },
  {
   "cell_type": "code",
   "execution_count": 401,
   "metadata": {},
   "outputs": [
    {
     "data": {
      "image/png": "[encoded data removed]",
      "text/plain": [
       "<Figure size 432x288 with 1 Axes>"
      ]
     },
     "metadata": {
      "needs_background": "light"
     },
     "output_type": "display_data"
    }
   ],
   "source": [
    "def generate_1():\n",
    "    random_numbers = []\n",
    "    for i in range(1000):\n",
    "        is_first = np.random.random_sample() < 0.5\n",
    "        if is_first:\n",
    "            random_number.append(np.random.normal(3, 1))\n",
    "        else:\n",
    "            random_number.append(np.random.normal(9, 1))\n",
    "    plt.hist(random_number, bins=40, edgecolor='black')\n",
    "\n",
    "generate_1()"
   ]
  },
  {
   "cell_type": "markdown",
   "metadata": {},
   "source": [
    "E. Bonus: use the other one to generate 1000 more points and draw two comparative histograms."
   ]
  },
  {
   "cell_type": "code",
   "execution_count": 402,
   "metadata": {},
   "outputs": [
    {
     "data": {
      "image/png": "[encoded data removed]",
      "text/plain": [
       "<Figure size 432x288 with 1 Axes>"
      ]
     },
     "metadata": {
      "needs_background": "light"
     },
     "output_type": "display_data"
    }
   ],
   "source": [
    "def generate_2():\n",
    "    random_numbers = []\n",
    "    for i in range(12):\n",
    "        points_to_generate = np.round((gm_cdf(i + 1) - gm_cdf(i)) * 1000)\n",
    "        for j in range (int(points_to_generate)):\n",
    "            random_numbers.append(gm_pdf(i + np.random.random_sample()))\n",
    "    plt.hist(random_number, bins=40,color='orange', edgecolor='black')\n",
    "\n",
    "generate_1()"
   ]
  },
  {
   "cell_type": "code",
   "execution_count": 403,
   "metadata": {},
   "outputs": [
    {
     "data": {
      "image/png": "[encoded data removed]",
      "text/plain": [
       "<Figure size 432x288 with 1 Axes>"
      ]
     },
     "metadata": {
      "needs_background": "light"
     },
     "output_type": "display_data"
    }
   ],
   "source": [
    "generate_2()"
   ]
  },
  {
   "cell_type": "markdown",
   "metadata": {},
   "source": [
    "## Question 4\n",
    "The annual salaries of employees in a large Randomistan company are approximateley normally distributed with a mean of 50,000 RCU and a standard deviation of 20,000 RCU.\n",
    "\n",
    "formatlly, if $X$ is the annual salaries of employees then \n",
    "$$ X \\sim N(50000, 20000^2) $$"
   ]
  },
  {
   "cell_type": "code",
   "execution_count": 404,
   "metadata": {},
   "outputs": [
    {
     "data": {
      "image/png": "[encoded data removed]",
      "text/plain": [
       "<Figure size 432x288 with 1 Axes>"
      ]
     },
     "metadata": {
      "needs_background": "light"
     },
     "output_type": "display_data"
    }
   ],
   "source": [
    "x_axis = np.arange(0, 110000, 10)\n",
    "plt.plot(x_axis, norm.pdf(x_axis,50000,20000), color='green', label='Salaries')\n",
    "plt.legend(loc='upper left')\n",
    "plt.show()"
   ]
  },
  {
   "cell_type": "markdown",
   "metadata": {},
   "source": [
    "a. What percent of people earn less than 40,000 RCU? "
   ]
  },
  {
   "cell_type": "markdown",
   "metadata": {},
   "source": [
    "We shall compute the CDF, $F_{x}(40000) = \\Phi(\\frac{40000 - 50000}{20000}) = \\Phi(-0.5) = 1-\\Phi(0.5) $"
   ]
  },
  {
   "cell_type": "code",
   "execution_count": 405,
   "metadata": {},
   "outputs": [
    {
     "data": {
      "text/plain": [
       "0.3085375387259869"
      ]
     },
     "execution_count": 405,
     "metadata": {},
     "output_type": "execute_result"
    }
   ],
   "source": [
    "1 - norm.cdf(0.5)"
   ]
  },
  {
   "cell_type": "markdown",
   "metadata": {},
   "source": [
    "b. What percent of people earn between 45,000 RCU and 65,000 RCU?"
   ]
  },
  {
   "cell_type": "markdown",
   "metadata": {},
   "source": [
    "We shall compute the CDF, $F_{x}(65000) - F_{x}(45000) = \\Phi(\\frac{65000 - 50000}{20000}) - \\Phi(\\frac{45000 - 50000}{20000}) = \\Phi(0.75) - \\Phi(-0.25) =\\Phi(0.75) - (1-\\Phi(0.25))= \\Phi(0.75) + \\Phi(0.25) - 1 $"
   ]
  },
  {
   "cell_type": "code",
   "execution_count": 406,
   "metadata": {},
   "outputs": [
    {
     "data": {
      "text/plain": [
       "0.37207897330605544"
      ]
     },
     "execution_count": 406,
     "metadata": {},
     "output_type": "execute_result"
    }
   ],
   "source": [
    "norm.cdf(0.75) + norm.cdf(0.25) - 1"
   ]
  },
  {
   "cell_type": "markdown",
   "metadata": {},
   "source": [
    "c. What percent of people earn more than 70,000 RCU?"
   ]
  },
  {
   "cell_type": "markdown",
   "metadata": {},
   "source": [
    "We shall compute: $P(X>70000) = 1 - P(X \\leq 70000) = 1 - F_{x}(70000) =1 - \\Phi(\\frac{70000 - 50000}{20000}) = 1-\\Phi(1) $"
   ]
  },
  {
   "cell_type": "code",
   "execution_count": 407,
   "metadata": {},
   "outputs": [
    {
     "data": {
      "text/plain": [
       "0.15865525393145707"
      ]
     },
     "execution_count": 407,
     "metadata": {},
     "output_type": "execute_result"
    }
   ],
   "source": [
    "1 - norm.cdf(1)"
   ]
  },
  {
   "cell_type": "markdown",
   "metadata": {},
   "source": [
    "d. The company has 1000 employees. Do you expect that there are any employees that earn more than 120,000 RCU?  "
   ]
  },
  {
   "cell_type": "markdown",
   "metadata": {},
   "source": [
    "Let us calculate the probability that there of an employee earning more than 120,000, if that probability is greater than 0.001 then we would expect that our of 1000, there going to be one employee that satisfy this condition.\n",
    "\n",
    "We shall calculate: $P(X>120000) = 1 - P(X \\leq 120000) = 1 - F_{x}(120000) =1 - \\Phi(\\frac{120000 - 50000}{20000}) = 1-\\Phi(3.5) $"
   ]
  },
  {
   "cell_type": "code",
   "execution_count": 408,
   "metadata": {},
   "outputs": [
    {
     "data": {
      "text/plain": [
       "0.0002326290790355401"
      ]
     },
     "execution_count": 408,
     "metadata": {},
     "output_type": "execute_result"
    }
   ],
   "source": [
    "1 - norm.cdf(3.5)"
   ]
  },
  {
   "cell_type": "markdown",
   "metadata": {},
   "source": [
    "therefore we would not expect that one of 1000 employees will earn more than 120000 (we would expect that one out of 5000 will)."
   ]
  },
  {
   "cell_type": "markdown",
   "metadata": {},
   "source": [
    "# Question 5\n",
    "\n",
    "Let $T_n$ denote the waiting time for full single coupon collection with N different equiprobable coupon types"
   ]
  },
  {
   "cell_type": "markdown",
   "metadata": {},
   "source": [
    "a. Write code to compute the exact value of $E(T_N)$"
   ]
  },
  {
   "cell_type": "code",
   "execution_count": 443,
   "metadata": {},
   "outputs": [
    {
     "data": {
      "text/plain": [
       "71.95479314287363"
      ]
     },
     "execution_count": 443,
     "metadata": {},
     "output_type": "execute_result"
    }
   ],
   "source": [
    "def probability_coupon_i(i, total_coupons):\n",
    "    return (total_coupons - (i - 1)) / total_coupons\n",
    "\n",
    "def expect_coupon(n, total_coupons):\n",
    "    sum = 0\n",
    "    for i in range(1, n + 1, 1):\n",
    "        sum += (1 / probability_coupon_i(i, n))\n",
    "    return sum\n",
    "expect_coupon(20, 20)"
   ]
  },
  {
   "cell_type": "markdown",
   "metadata": {},
   "source": [
    "b. Write code to compute the exact value of $V(T_N)$"
   ]
  },
  {
   "cell_type": "code",
   "execution_count": 458,
   "metadata": {},
   "outputs": [
    {
     "name": "stdout",
     "output_type": "stream",
     "text": [
      "23.801481139255504\n"
     ]
    }
   ],
   "source": [
    "def var_coupon(n, total_coupons):\n",
    "    sum = 0\n",
    "    for i in range(1, n + 1, 1):\n",
    "        p_i = probability_coupon_i(i, total_coupons)\n",
    "        sum += (1 - p_i) / (p_i ** 2)\n",
    "    return sum\n",
    "print(np.sqrt(var_coupon(20, 20)))"
   ]
  },
  {
   "cell_type": "markdown",
   "metadata": {},
   "source": [
    "c. Write code to exactly compute $P(T_{20} > 60)$"
   ]
  },
  {
   "cell_type": "markdown",
   "metadata": {},
   "source": [
    "We shall use CLT:"
   ]
  },
  {
   "cell_type": "markdown",
   "metadata": {},
   "source": [
    "$P(T_{20} > 60) = 1 - P(T_{20} \\leq 60)$, $ T_20 \\sim N(71.95, 23.8^2)$"
   ]
  },
  {
   "cell_type": "code",
   "execution_count": 451,
   "metadata": {},
   "outputs": [
    {
     "data": {
      "text/plain": [
       "0.6922615384537201"
      ]
     },
     "execution_count": 451,
     "metadata": {},
     "output_type": "execute_result"
    }
   ],
   "source": [
    "1 - norm.cdf(60, expect_coupon(20,20), np.sqrt(var_coupon(20, 20)))"
   ]
  },
  {
   "cell_type": "markdown",
   "metadata": {},
   "source": [
    "$P(T_{20}\\geq 60) \\leq \\frac{E(T_{20}^2)}{60^2} = \\frac{V(T_{20})+ E(T_{20})^2}{60^2}$"
   ]
  },
  {
   "cell_type": "code",
   "execution_count": 453,
   "metadata": {},
   "outputs": [
    {
     "data": {
      "text/plain": [
       "1.5955563224044635"
      ]
     },
     "execution_count": 453,
     "metadata": {},
     "output_type": "execute_result"
    }
   ],
   "source": [
    "(var_coupon(20, 20) + (expect_coupon(20,20) ** 2)) / (60 ** 2)"
   ]
  },
  {
   "cell_type": "markdown",
   "metadata": {},
   "source": [
    "# Question 5\n",
    "Let $n$ be an integer, not prime. \n",
    "Find two distributions a and b on the nonnegative integers, both not concentrated at $0$ (this is the trivial answer …), such that the convolution of a and b is the equiprobable (uniform) distribution on the set of numbers $0, 1, 2, . . . , n-1$\n"
   ]
  },
  {
   "cell_type": "markdown",
   "metadata": {},
   "source": [
    "A is equiprobable distribution over $\\{0,1\\}$ and B is equiprobable distribution over $\\{0,2,...,n-2\\}$"
   ]
  },
  {
   "cell_type": "markdown",
   "metadata": {},
   "source": [
    "$P(A=a)= \\frac{1}{2}$ and $P(B=b)=\\frac{1}{n-1}$\n",
    "therefore if Z = A + B we shall consider the two cases: if Z is even we get\n",
    "$$P(Z= 2k) = P(A=0)P(B=2k) = \\frac{1}{2} \\cdot \\frac{1}{\\frac{n}{2}} = \\frac{1}{n}$$ \n",
    "and if Z is odd\n",
    "$$ P(Z = 2k + 1) = P(A=1)P(B=2k) = \\frac{1}{2} \\cdot \\frac{1}{\\frac{n}{2}} = \\frac{1}{n}$$\n",
    "\n",
    "therefore we got a uniform distribution over $\\{0,1,...,n-1\\}$"
   ]
  },
  {
   "cell_type": "code",
   "execution_count": null,
   "metadata": {},
   "outputs": [],
   "source": []
  }
 ],
 "metadata": {
  "kernelspec": {
   "display_name": "Python 2",
   "language": "python",
   "name": "python2"
  },
  "language_info": {
   "codemirror_mode": {
    "name": "ipython",
    "version": 2
   },
   "file_extension": ".py",
   "mimetype": "text/x-python",
   "name": "python",
   "nbconvert_exporter": "python",
   "pygments_lexer": "ipython2",
   "version": "2.7.13"
  }
 },
 "nbformat": 4,
 "nbformat_minor": 2
}
