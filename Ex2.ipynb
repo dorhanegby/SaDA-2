{
 "cells": [
  {
   "cell_type": "markdown",
   "metadata": {},
   "source": [
    "<h1><center> Statistics and Data Analysis - Assignmet 02</center></h1>"
   ]
  },
  {
   "cell_type": "markdown",
   "metadata": {},
   "source": [
    "# Question 1.\n",
    "\n",
    "    a. Produce histograms that compare the distribution of max heart rate using all non numerical columns to\n",
    "    partition the set of samples.  ",
    "State 2 conclusions you can try to draw from this analysis. "
   ]
  },
  {
   "cell_type": "code",
   "execution_count": 175,
   "metadata": {},
   "outputs": [],
   "source": [
    "import pandas as pd\n",
    "import numpy as np\n",
    "import matplotlib.pyplot as plt\n",
    "from scipy.stats import norm"
   ]
  },
  {
   "cell_type": "code",
   "execution_count": 176,
   "metadata": {},
   "outputs": [],
   "source": [
    "%matplotlib inline"
   ]
  },
  {
   "cell_type": "code",
   "execution_count": 177,
   "metadata": {
    "scrolled": true
   },
   "outputs": [
    {
     "data": {
      "text/html": [
       "<div>\n",
       "<style scoped>\n",
       "    .dataframe tbody tr th:only-of-type {\n",
       "        vertical-align: middle;\n",
       "    }\n",
       "\n",
       "    .dataframe tbody tr th {\n",
       "        vertical-align: top;\n",
       "    }\n",
       "\n",
       "    .dataframe thead th {\n",
       "        text-align: right;\n",
       "    }\n",
       "</style>\n",
       "<table border=\"1\" class=\"dataframe\">\n",
       "  <thead>\n",
       "    <tr style=\"text-align: right;\">\n",
       "      <th></th>\n",
       "      <th>age</th>\n",
       "      <th>chest_pain</th>\n",
       "      <th>rest_bpress</th>\n",
       "      <th>blood_sugar</th>\n",
       "      <th>rest_electro</th>\n",
       "      <th>max_heart_rate</th>\n",
       "      <th>exercice_angina</th>\n",
       "      <th>disease</th>\n",
       "    </tr>\n",
       "  </thead>\n",
       "  <tbody>\n",
       "    <tr>\n",
       "      <th>0</th>\n",
       "      <td>43</td>\n",
       "      <td>asympt</td>\n",
       "      <td>140</td>\n",
       "      <td>f</td>\n",
       "      <td>normal</td>\n",
       "      <td>135</td>\n",
       "      <td>yes</td>\n",
       "      <td>positive</td>\n",
       "    </tr>\n",
       "    <tr>\n",
       "      <th>1</th>\n",
       "      <td>39</td>\n",
       "      <td>atyp_angina</td>\n",
       "      <td>120</td>\n",
       "      <td>f</td>\n",
       "      <td>normal</td>\n",
       "      <td>160</td>\n",
       "      <td>yes</td>\n",
       "      <td>negative</td>\n",
       "    </tr>\n",
       "    <tr>\n",
       "      <th>2</th>\n",
       "      <td>39</td>\n",
       "      <td>non_anginal</td>\n",
       "      <td>160</td>\n",
       "      <td>t</td>\n",
       "      <td>normal</td>\n",
       "      <td>160</td>\n",
       "      <td>no</td>\n",
       "      <td>negative</td>\n",
       "    </tr>\n",
       "    <tr>\n",
       "      <th>3</th>\n",
       "      <td>42</td>\n",
       "      <td>non_anginal</td>\n",
       "      <td>160</td>\n",
       "      <td>f</td>\n",
       "      <td>normal</td>\n",
       "      <td>146</td>\n",
       "      <td>no</td>\n",
       "      <td>negative</td>\n",
       "    </tr>\n",
       "    <tr>\n",
       "      <th>4</th>\n",
       "      <td>49</td>\n",
       "      <td>asympt</td>\n",
       "      <td>140</td>\n",
       "      <td>f</td>\n",
       "      <td>normal</td>\n",
       "      <td>130</td>\n",
       "      <td>no</td>\n",
       "      <td>negative</td>\n",
       "    </tr>\n",
       "  </tbody>\n",
       "</table>\n",
       "</div>"
      ],
      "text/plain": [
       "   age   chest_pain  rest_bpress blood_sugar rest_electro  max_heart_rate  \\\n",
       "0   43       asympt          140           f       normal             135   \n",
       "1   39  atyp_angina          120           f       normal             160   \n",
       "2   39  non_anginal          160           t       normal             160   \n",
       "3   42  non_anginal          160           f       normal             146   \n",
       "4   49       asympt          140           f       normal             130   \n",
       "\n",
       "  exercice_angina   disease  \n",
       "0             yes  positive  \n",
       "1             yes  negative  \n",
       "2              no  negative  \n",
       "3              no  negative  \n",
       "4              no  negative  "
      ]
     },
     "execution_count": 177,
     "metadata": {},
     "output_type": "execute_result"
    }
   ],
   "source": [
    "lyon=pd.read_excel(\"./HW2/UnivLyon_heart_disease_male.xls\")\n",
    "lyon.head()"
   ]
  },
  {
   "cell_type": "code",
   "execution_count": 178,
   "metadata": {},
   "outputs": [],
   "source": [
    "# categories_to_split_by = filter(lambda cat: str(lyon[cat][0]).isalpha(), lyon)\n",
    "# fig, axes = plt.subplots(nrows=len(categories_to_split_by), ncols=1)\n",
    "# plt.rcParams[\"figure.figsize\"]=50,50\n",
    "# plt.rcParams[\"font.size\"]=20\n",
    "# plt.rcParams[\"axes.titlesize\"]=20\n",
    "\n",
    "\n",
    "\n",
    "# for i in range(len(categories_to_split_by)):\n",
    "#     df = lyon[['max_heart_rate', categories_to_split_by[i]]]\n",
    "#     nf = np.array(df.groupby(categories_to_split_by[i]).max_heart_rate, dtype=pd.Series)\n",
    "#     axes[i].hist([x[1] for x in nf], label=[x[0] for x in nf])\n",
    "#     axes[i].set_ylabel(\"Num of elements\")\n",
    "#     axes[i].set_xlabel(\"Max heart rate\")\n",
    "#     axes[i].legend(loc='center left', bbox_to_anchor=(1, 0.05))\n",
    "\n",
    "\n",
    "# fig.subplots_adjust(hspace=2, left=0.05)\n",
    "# plt.show()"
   ]
  },
  {
   "cell_type": "code",
   "execution_count": 179,
   "metadata": {
    "scrolled": true
   },
   "outputs": [],
   "source": [
    "# axarr = df.groupby('chest_pain').max_heart_rate.hist(alpha=0.4)"
   ]
  },
  {
   "cell_type": "markdown",
   "metadata": {},
   "source": [
    "## Question 2\n",
    "    a. First we start by showing the pdf of Fred, Mel and Sid time to repair a phonel."
   ]
  },
  {
   "cell_type": "code",
   "execution_count": 180,
   "metadata": {
    "scrolled": true
   },
   "outputs": [
    {
     "data": {
      "image/png": "[encoded data removed]",
      "text/plain": [
       "<Figure size 432x288 with 1 Axes>"
      ]
     },
     "metadata": {
      "needs_background": "light"
     },
     "output_type": "display_data"
    }
   ],
   "source": [
    "x_axis = np.arange(0, 80, 0.001)\n",
    "plt.plot(x_axis, norm.pdf(x_axis,30,5), label='Fred')\n",
    "plt.legend(loc='upper left')\n",
    "plt.show()"
   ]
  },
  {
   "cell_type": "markdown",
   "metadata": {},
   "source": [
    "We want to calculte $P (F \\leq 45)$ = $\\phi(\\frac{45 - 30}{5}) = \\phi(3)$ where $\\phi$ is the pdf of of the stanard normal distribution. therefore we shall calculate:"
   ]
  },
  {
   "cell_type": "code",
   "execution_count": 181,
   "metadata": {},
   "outputs": [
    {
     "data": {
      "text/plain": [
       "0.9986501019683699"
      ]
     },
     "execution_count": 181,
     "metadata": {},
     "output_type": "execute_result"
    }
   ],
   "source": [
    "norm.cdf(3)"
   ]
  },
  {
   "cell_type": "markdown",
   "metadata": {},
   "source": [
    "We can say that the probability that Fred will be done fixing the phone by 11:45 is $99.86\\%$"
   ]
  },
  {
   "cell_type": "markdown",
   "metadata": {},
   "source": [
    "When a customer in North Randomistan orders a repair, there is a 50% chance Fred will do the work and 25% each that Mel or Sid will do the work."
   ]
  },
  {
   "cell_type": "markdown",
   "metadata": {},
   "source": [
    "    b. What is the distribution of the duration of repair in North Randomistan?"
   ]
  },
  {
   "cell_type": "markdown",
   "metadata": {},
   "source": [
    "The distribution of the duration of repair in North Randomistan is a Gaussian mixture with the following parameters:\n",
    "\n",
    "$ X_1 \\sim N(30, 5), X_2 \\sim N(35, 7), X_3 \\sim N(40, 10) $\n",
    "$w_1 = 0.5, w_2 = 0.25, w_3 = 0.25$\n",
    "\n",
    "we define the Gaussian mixture PDF as:\n",
    "$$ GM(x) = \\sum_{i=1}^{3} w_i f_{X_i}(x)$$"
   ]
  },
  {
   "cell_type": "code",
   "execution_count": 182,
   "metadata": {},
   "outputs": [
    {
     "data": {
      "image/png": "[encoded data removed]",
      "text/plain": [
       "<Figure size 432x288 with 1 Axes>"
      ]
     },
     "metadata": {
      "needs_background": "light"
     },
     "output_type": "display_data"
    }
   ],
   "source": [
    "def gm_pdf(x):\n",
    "    return 0.5 * norm.pdf(x,30,5) + 0.25 * norm.pdf(x,35,7) + 0.25 * norm.pdf(x,40,10)\n",
    "\n",
    "plt.plot(x_axis, norm.pdf(x_axis,30,5), color='blue', label='Fred', alpha=0.2)\n",
    "plt.plot(x_axis, norm.pdf(x_axis, 35, 7), color='green', label='Mel', alpha=0.2)\n",
    "plt.plot(x_axis, norm.pdf(x_axis,40,10), color='brown', label='Sid', alpha=0.2)\n",
    "plt.plot(x_axis, gm_pdf(x_axis), color='red', label='GM')\n",
    "plt.legend(loc='upper left')\n",
    "plt.show()"
   ]
  },
  {
   "cell_type": "markdown",
   "metadata": {},
   "source": [
    "c. Let $\\Phi$ denote the CDF of a standard normal random variable. Use $\\Phi$ to express the CDF of the duration of a repair in North Randomistan."
   ]
  },
  {
   "cell_type": "markdown",
   "metadata": {},
   "source": [
    "$\\Phi_{gm}(x) = \\int_{-\\infty}^{x} GM(x)dx = \\int_{-\\infty}^{x} \\sum_{i=1}^{3} w_i f_{X_i}(x)dx = \\sum_{i=1}^{3}  w_i \\int_{-\\infty}^{x} f_{X_i}(x)dx = \\sum_{i=1}^{3} w_i \\Phi_{X_i}(x) = \\sum_{i=1}^{3} w_i \\Phi(\\frac{x - \\mu_i}{\\sigma_i}) $ "
   ]
  },
  {
   "cell_type": "code",
   "execution_count": 183,
   "metadata": {},
   "outputs": [
    {
     "data": {
      "image/png": "[encoded data removed]",
      "text/plain": [
       "<Figure size 432x288 with 1 Axes>"
      ]
     },
     "metadata": {
      "needs_background": "light"
     },
     "output_type": "display_data"
    }
   ],
   "source": [
    "def gm_cdf(x):\n",
    "    return 0.5 * norm.cdf(x,30,5) + 0.25 * norm.cdf(x,35,7) + 0.25* norm.cdf(x,40,10)\n",
    "\n",
    "plt.plot(x_axis, norm.cdf(x_axis,30,5), color='blue', label='Fred', alpha=0.2)\n",
    "plt.plot(x_axis, norm.cdf(x_axis, 35, 7), color='green', label='Mel', alpha=0.2)\n",
    "plt.plot(x_axis, norm.cdf(x_axis,40,10), color='brown', label='Sid', alpha=0.2)\n",
    "plt.plot(x_axis, gm_cdf(x_axis), color='red', label='GM')\n",
    "plt.legend(loc='upper left')\n",
    "plt.show()"
   ]
  },
  {
   "cell_type": "markdown",
   "metadata": {},
   "source": [
    "d. If the repair starts at 11AM, what is the earliest time for which the customer can assume, at a 95% certainty, that the repair will be already done?"
   ]
  },
  {
   "cell_type": "markdown",
   "metadata": {},
   "source": [
    "we want to find the earliest time $t$ such that $\\Phi_{gm}(t) \\geq 0.95$, in this simple case, we will answer that by iterating over the discrete values"
   ]
  },
  {
   "cell_type": "code",
   "execution_count": 187,
   "metadata": {},
   "outputs": [
    {
     "name": "stdout",
     "output_type": "stream",
     "text": [
      "gm_cdf(50) = 0.956304779495262\n"
     ]
    }
   ],
   "source": [
    "for t in range(0, 80):\n",
    "    if gm_cdf(t) >= 0.95:\n",
    "        print('gm_cdf({}) = {}'.format(t, gm_cdf(t)))\n",
    "        break\n",
    "        "
   ]
  },
  {
   "cell_type": "markdown",
   "metadata": {},
   "source": [
    "we can conclude that for every $t \\geq 50$ (actually somewhere between 49 and 50) it holds that $$\\Phi_{gm}(t) \\geq \\Phi_{gm}(50) \\geq 0.95$$"
   ]
  },
  {
   "cell_type": "code",
   "execution_count": null,
   "metadata": {},
   "outputs": [],
   "source": []
  }
 ],
 "metadata": {
  "kernelspec": {
   "display_name": "Python 3",
   "language": "python",
   "name": "python3"
  },
  "language_info": {
   "codemirror_mode": {
    "name": "ipython",
    "version": 3
   },
   "file_extension": ".py",
   "mimetype": "text/x-python",
   "name": "python",
   "nbconvert_exporter": "python",
   "pygments_lexer": "ipython3",
   "version": "3.7.0"
  }
 },
 "nbformat": 4,
 "nbformat_minor": 2
}
