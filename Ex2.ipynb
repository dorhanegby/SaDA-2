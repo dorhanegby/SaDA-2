{
 "cells": [
  {
   "cell_type": "markdown",
   "metadata": {},
   "source": [
    "<h1><center> Statistics and Data Analysis - Assignmet 02</center></h1>"
   ]
  },
  {
   "cell_type": "markdown",
   "metadata": {},
   "source": [
    "# Question 1.\n",
    "\n",
    "    a. Produce histograms that compare the distribution of max heart rate using all non numerical columns to\n",
    "    partition the set of samples.  ",
    "State 2 conclusions you can try to draw from this analysis. "
   ]
  },
  {
   "cell_type": "code",
   "execution_count": 95,
   "metadata": {},
   "outputs": [],
   "source": [
    "import pandas as pd\n",
    "import numpy as np\n",
    "import matplotlib.pyplot as plt\n",
    "from scipy.stats import norm"
   ]
  },
  {
   "cell_type": "code",
   "execution_count": 96,
   "metadata": {},
   "outputs": [],
   "source": [
    "%matplotlib inline"
   ]
  },
  {
   "cell_type": "code",
   "execution_count": 97,
   "metadata": {
    "scrolled": true
   },
   "outputs": [
    {
     "data": {
      "text/html": [
       "<div>\n",
       "<style scoped>\n",
       "    .dataframe tbody tr th:only-of-type {\n",
       "        vertical-align: middle;\n",
       "    }\n",
       "\n",
       "    .dataframe tbody tr th {\n",
       "        vertical-align: top;\n",
       "    }\n",
       "\n",
       "    .dataframe thead th {\n",
       "        text-align: right;\n",
       "    }\n",
       "</style>\n",
       "<table border=\"1\" class=\"dataframe\">\n",
       "  <thead>\n",
       "    <tr style=\"text-align: right;\">\n",
       "      <th></th>\n",
       "      <th>age</th>\n",
       "      <th>chest_pain</th>\n",
       "      <th>rest_bpress</th>\n",
       "      <th>blood_sugar</th>\n",
       "      <th>rest_electro</th>\n",
       "      <th>max_heart_rate</th>\n",
       "      <th>exercice_angina</th>\n",
       "      <th>disease</th>\n",
       "    </tr>\n",
       "  </thead>\n",
       "  <tbody>\n",
       "    <tr>\n",
       "      <th>0</th>\n",
       "      <td>43</td>\n",
       "      <td>asympt</td>\n",
       "      <td>140</td>\n",
       "      <td>f</td>\n",
       "      <td>normal</td>\n",
       "      <td>135</td>\n",
       "      <td>yes</td>\n",
       "      <td>positive</td>\n",
       "    </tr>\n",
       "    <tr>\n",
       "      <th>1</th>\n",
       "      <td>39</td>\n",
       "      <td>atyp_angina</td>\n",
       "      <td>120</td>\n",
       "      <td>f</td>\n",
       "      <td>normal</td>\n",
       "      <td>160</td>\n",
       "      <td>yes</td>\n",
       "      <td>negative</td>\n",
       "    </tr>\n",
       "    <tr>\n",
       "      <th>2</th>\n",
       "      <td>39</td>\n",
       "      <td>non_anginal</td>\n",
       "      <td>160</td>\n",
       "      <td>t</td>\n",
       "      <td>normal</td>\n",
       "      <td>160</td>\n",
       "      <td>no</td>\n",
       "      <td>negative</td>\n",
       "    </tr>\n",
       "    <tr>\n",
       "      <th>3</th>\n",
       "      <td>42</td>\n",
       "      <td>non_anginal</td>\n",
       "      <td>160</td>\n",
       "      <td>f</td>\n",
       "      <td>normal</td>\n",
       "      <td>146</td>\n",
       "      <td>no</td>\n",
       "      <td>negative</td>\n",
       "    </tr>\n",
       "    <tr>\n",
       "      <th>4</th>\n",
       "      <td>49</td>\n",
       "      <td>asympt</td>\n",
       "      <td>140</td>\n",
       "      <td>f</td>\n",
       "      <td>normal</td>\n",
       "      <td>130</td>\n",
       "      <td>no</td>\n",
       "      <td>negative</td>\n",
       "    </tr>\n",
       "  </tbody>\n",
       "</table>\n",
       "</div>"
      ],
      "text/plain": [
       "   age   chest_pain  rest_bpress blood_sugar rest_electro  max_heart_rate  \\\n",
       "0   43       asympt          140           f       normal             135   \n",
       "1   39  atyp_angina          120           f       normal             160   \n",
       "2   39  non_anginal          160           t       normal             160   \n",
       "3   42  non_anginal          160           f       normal             146   \n",
       "4   49       asympt          140           f       normal             130   \n",
       "\n",
       "  exercice_angina   disease  \n",
       "0             yes  positive  \n",
       "1             yes  negative  \n",
       "2              no  negative  \n",
       "3              no  negative  \n",
       "4              no  negative  "
      ]
     },
     "execution_count": 97,
     "metadata": {},
     "output_type": "execute_result"
    }
   ],
   "source": [
    "lyon=pd.read_excel(\"./HW2/UnivLyon_heart_disease_male.xls\")\n",
    "lyon.head()"
   ]
  },
  {
   "cell_type": "code",
   "execution_count": 98,
   "metadata": {},
   "outputs": [],
   "source": [
    "df=lyon[['max_heart_rate', 'chest_pain']]"
   ]
  },
  {
   "cell_type": "code",
   "execution_count": 99,
   "metadata": {
    "scrolled": true
   },
   "outputs": [
    {
     "data": {
      "image/png": "[encoded data removed]",
      "text/plain": [
       "<Figure size 432x288 with 1 Axes>"
      ]
     },
     "metadata": {
      "needs_background": "light"
     },
     "output_type": "display_data"
    }
   ],
   "source": [
    "axarr = df.groupby('chest_pain').max_heart_rate.hist(alpha=0.4)"
   ]
  },
  {
   "cell_type": "markdown",
   "metadata": {},
   "source": [
    "## Question 2\n",
    "    a. First we start by showing the pdf of Fred's time to repair a phonel."
   ]
  },
  {
   "cell_type": "code",
   "execution_count": 110,
   "metadata": {
    "scrolled": true
   },
   "outputs": [
    {
     "data": {
      "image/png": "[encoded data removed]",
      "text/plain": [
       "<Figure size 432x288 with 1 Axes>"
      ]
     },
     "metadata": {
      "needs_background": "light"
     },
     "output_type": "display_data"
    }
   ],
   "source": [
    "x_axis = np.arange(-40, 100, 0.001)\n",
    "plt.plot(x_axis, norm.pdf(x_axis,30,5))\n",
    "plt.show()"
   ]
  },
  {
   "cell_type": "markdown",
   "metadata": {},
   "source": [
    "We want to calculte $P (F \\leq 45)$ = $\\phi(\\frac{45 - 30}{5}) = \\phi(3)$ where $\\phi$ is the pdf of of the stanard normal distribution. therefore we shall calculate:"
   ]
  },
  {
   "cell_type": "code",
   "execution_count": 109,
   "metadata": {},
   "outputs": [
    {
     "data": {
      "text/plain": [
       "0.9986501019683699"
      ]
     },
     "execution_count": 109,
     "metadata": {},
     "output_type": "execute_result"
    }
   ],
   "source": [
    "norm.cdf(3)"
   ]
  },
  {
   "cell_type": "code",
   "execution_count": null,
   "metadata": {},
   "outputs": [],
   "source": []
  }
 ],
 "metadata": {
  "kernelspec": {
   "display_name": "Python 3",
   "language": "python",
   "name": "python3"
  },
  "language_info": {
   "codemirror_mode": {
    "name": "ipython",
    "version": 3
   },
   "file_extension": ".py",
   "mimetype": "text/x-python",
   "name": "python",
   "nbconvert_exporter": "python",
   "pygments_lexer": "ipython3",
   "version": "3.7.0"
  }
 },
 "nbformat": 4,
 "nbformat_minor": 2
}
